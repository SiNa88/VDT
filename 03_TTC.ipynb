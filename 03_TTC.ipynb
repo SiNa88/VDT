version https://git-lfs.github.com/spec/v1
oid sha256:1de817aca2f6cb15dadb84b56508f6ba1defbab3ae57d1adda37cdbefe32b5d4
size 442887
